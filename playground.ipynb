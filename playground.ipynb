{
 "cells": [
  {
   "cell_type": "code",
   "execution_count": 2,
   "metadata": {},
   "outputs": [],
   "source": [
    "import re\n",
    "\n",
    "from langchain_openai import ChatOpenAI\n",
    "from langchain_experimental.tools import PythonREPLTool\n",
    "from langchain_core.prompts import ChatPromptTemplate\n",
    "\n",
    "from extract import (\n",
    "    extract_function_names,\n",
    "    extract_function_by_name,\n",
    "    extract_imports,\n",
    "    is_valid_python,\n",
    ")\n",
    "\n",
    "python_repl = PythonREPLTool()\n",
    "\n",
    "llm = ChatOpenAI(temperature=0, model=\"gpt-4o\")"
   ]
  },
  {
   "cell_type": "code",
   "execution_count": 7,
   "metadata": {},
   "outputs": [],
   "source": [
    "unit_test_system_prompt_string = \"\"\"\n",
    "You are a specialized assistant designed to create unit tests for functions, particularly those involving regular expressions (regex). \\\n",
    "    Your task is to generate concise, self-contained unit tests based on a natural language description of the function's intended behavior.\n",
    "\n",
    "Instructions:\n",
    "1. Analyze the given description carefully.\n",
    "2. Create distinct unit tests that cover all important aspects of the function's expected behavior.\n",
    "3. Only write unit test functions. Do not write a test Class.\n",
    "4. If you need to use a unit test framework, use pytest.\n",
    "5. Each test should focus on a single aspect or scenario.\n",
    "6. Use descriptive test names that clearly indicate what is being tested.\n",
    "7. Include assertions that accurately check the expected outcomes.\n",
    "8. Do not write the actual function implementation or code to run the tests.\n",
    "9. Ensure tests cover edge cases, invalid inputs, and typical use cases.\n",
    "10. For regex functions, consider testing pattern matching, capturing groups, and boundary conditions.\n",
    "11. Keep the tests concise and to the point.\n",
    "\n",
    "Provide your response as a Python code block containing only the unit tests.\n",
    "\n",
    "Example input: \"Create tests for a function that extracts all email addresses from a given text.\"\n",
    "\n",
    "Your task is to generate appropriate unit tests based on similar natural language descriptions.\n",
    "\"\"\"\n",
    "\n",
    "unit_test_prompt = ChatPromptTemplate.from_messages(\n",
    "    [(\"system\", unit_test_system_prompt_string), (\"user\", \"{input}\")]\n",
    ")\n",
    "\n",
    "unit_test_chain = unit_test_prompt | llm\n",
    "unit_test_llm_message = unit_test_chain.invoke(\n",
    "    {\n",
    "        \"input\": \"Extract emails (including instances of 'name at email dot com') from a text.\"\n",
    "    }\n",
    ")"
   ]
  },
  {
   "cell_type": "code",
   "execution_count": 12,
   "metadata": {},
   "outputs": [],
   "source": [
    "# print(unit_test_llm_message.content)"
   ]
  },
  {
   "cell_type": "code",
   "execution_count": 16,
   "metadata": {},
   "outputs": [
    {
     "name": "stdout",
     "output_type": "stream",
     "text": [
      "import re\n",
      "import pytest\n",
      "\n",
      "def test_extract_emails_standard_format():\n",
      "    text = \"Please contact us at support@example.com for further information.\"\n",
      "    expected = [\"support@example.com\"]\n",
      "    assert extract_emails(text) == expected\n",
      "\n",
      "def test_extract_emails_multiple_standard_format():\n",
      "    text = \"Send an email to john.doe@example.com or jane.doe@sample.org.\"\n",
      "    expected = [\"john.doe@example.com\", \"jane.doe@sample.org\"]\n",
      "    assert extract_emails(text) == expected\n",
      "\n",
      "def test_extract_emails_obfuscated_format():\n",
      "    text = \"You can reach me at john.doe at example dot com.\"\n",
      "    expected = [\"john.doe@example.com\"]\n",
      "    assert extract_emails(text) == expected\n",
      "\n",
      "def test_extract_emails_mixed_formats():\n",
      "    text = \"Contact us at support@example.com or john.doe at example dot com.\"\n",
      "    expected = [\"support@example.com\", \"john.doe@example.com\"]\n",
      "    assert extract_emails(text) == expected\n",
      "\n",
      "def test_extract_emails_no_emails():\n",
      "    text = \"There are no email addresses in this text.\"\n",
      "    expected = []\n",
      "    assert extract_emails(text) == expected\n",
      "\n",
      "def test_extract_emails_edge_case_empty_string():\n",
      "    text = \"\"\n",
      "    expected = []\n",
      "    assert extract_emails(text) == expected\n",
      "\n",
      "def test_extract_emails_edge_case_special_characters():\n",
      "    text = \"Special characters: !@#$%^&*()_+{}|:\\\"<>?[]\\\\;',./`~\"\n",
      "    expected = []\n",
      "    assert extract_emails(text) == expected\n",
      "\n",
      "def test_extract_emails_with_subdomains():\n",
      "    text = \"Contact us at support@sub.example.com or admin@sub.domain.org.\"\n",
      "    expected = [\"support@sub.example.com\", \"admin@sub.domain.org\"]\n",
      "    assert extract_emails(text) == expected\n",
      "\n",
      "def test_extract_emails_with_numbers():\n",
      "    text = \"Emails with numbers: user123@example.com and admin456@sample.org.\"\n",
      "    expected = [\"user123@example.com\", \"admin456@sample.org\"]\n",
      "    assert extract_emails(text) == expected\n",
      "\n",
      "def test_extract_emails_with_hyphens():\n",
      "    text = \"Emails with hyphens: first-last@example.com and another-one@sample.org.\"\n",
      "    expected = [\"first-last@example.com\", \"another-one@sample.org\"]\n",
      "    assert extract_emails(text) == expected\n",
      "\n"
     ]
    }
   ],
   "source": [
    "def extract_python_code(text):\n",
    "    pattern = r'```python\\n(.*?)```'\n",
    "    code_block = re.findall(pattern, text, re.DOTALL)[0]\n",
    "    is_valid_python(code_block)\n",
    "    return code_block\n",
    "\n",
    "unit_test_code_as_string = extract_python_code(unit_test_llm_message.content)\n",
    "print(unit_test_code_as_string)"
   ]
  },
  {
   "cell_type": "code",
   "execution_count": 17,
   "metadata": {},
   "outputs": [
    {
     "data": {
      "text/plain": [
       "['test_extract_emails_standard_format',\n",
       " 'test_extract_emails_multiple_standard_format',\n",
       " 'test_extract_emails_obfuscated_format',\n",
       " 'test_extract_emails_mixed_formats',\n",
       " 'test_extract_emails_no_emails',\n",
       " 'test_extract_emails_edge_case_empty_string',\n",
       " 'test_extract_emails_edge_case_special_characters',\n",
       " 'test_extract_emails_with_subdomains',\n",
       " 'test_extract_emails_with_numbers',\n",
       " 'test_extract_emails_with_hyphens']"
      ]
     },
     "execution_count": 17,
     "metadata": {},
     "output_type": "execute_result"
    }
   ],
   "source": [
    "unit_test_function_names = extract_function_names(code_string=unit_test_code_as_string)\n",
    "unit_test_function_names"
   ]
  },
  {
   "cell_type": "code",
   "execution_count": 18,
   "metadata": {},
   "outputs": [
    {
     "data": {
      "text/plain": [
       "['import re', 'import pytest']"
      ]
     },
     "execution_count": 18,
     "metadata": {},
     "output_type": "execute_result"
    }
   ],
   "source": [
    "unit_test_imports = extract_imports(unit_test_code_as_string)\n",
    "unit_test_imports"
   ]
  },
  {
   "cell_type": "code",
   "execution_count": 19,
   "metadata": {},
   "outputs": [],
   "source": [
    "function_writer_system_prompt_string = \"\"\"\n",
    "You are a Python code generation assistant. Your task is to create a Python function that satisfies all the provided pytest unit tests. Follow these guidelines:\n",
    "\n",
    "1. Analyze the given unit tests carefully to understand the function's required behavior.\n",
    "2. Write a single Python function that passes all the provided tests.\n",
    "3. Use type hints for parameters and return values.\n",
    "4. Include a clear and concise docstring explaining the function's purpose and parameters.\n",
    "5. Follow Python best practices and PEP 8 style guidelines.\n",
    "6. Do not include comments within the function body.\n",
    "7. Ensure the function handles all edge cases and scenarios covered in the tests.\n",
    "8. If the tests imply the use of regular expressions, import the 're' module and use it appropriately.\n",
    "9. Provide only the function definition and its implementation, nothing else.\n",
    "\n",
    "Your response should be a Python code block containing only the requested function.\n",
    "\"\"\"\n",
    "\n",
    "function_writer_prompt = ChatPromptTemplate.from_messages(\n",
    "    [(\"system\", function_writer_system_prompt_string), (\"user\", \"{input}\")]\n",
    ")\n",
    "\n",
    "function_writer_chain = function_writer_prompt | llm\n",
    "function_writer_llm_message = function_writer_chain.invoke(\n",
    "    {\n",
    "        \"input\": unit_test_code_as_string\n",
    "    }\n",
    ")"
   ]
  },
  {
   "cell_type": "code",
   "execution_count": 21,
   "metadata": {},
   "outputs": [
    {
     "name": "stdout",
     "output_type": "stream",
     "text": [
      "import re\n",
      "from typing import List\n",
      "\n",
      "def extract_emails(text: str) -> List[str]:\n",
      "    \"\"\"\n",
      "    Extracts email addresses from the given text. Supports both standard and obfuscated formats.\n",
      "\n",
      "    Args:\n",
      "        text (str): The input text containing email addresses.\n",
      "\n",
      "    Returns:\n",
      "        List[str]: A list of extracted email addresses.\n",
      "    \"\"\"\n",
      "    standard_emails = re.findall(r'\\b[A-Za-z0-9._%+-]+@[A-Za-z0-9.-]+\\.[A-Z|a-z]{2,}\\b', text)\n",
      "    obfuscated_emails = re.findall(r'\\b[A-Za-z0-9._%+-]+ at [A-Za-z0-9.-]+ dot [A-Z|a-z]{2,}\\b', text)\n",
      "    obfuscated_emails = [email.replace(' at ', '@').replace(' dot ', '.') for email in obfuscated_emails]\n",
      "    return standard_emails + obfuscated_emails\n",
      "\n"
     ]
    }
   ],
   "source": [
    "# print(function_writer_llm_message.content)\n",
    "target_function_code_as_string = extract_python_code(function_writer_llm_message.content)\n",
    "print(target_function_code_as_string)"
   ]
  },
  {
   "cell_type": "code",
   "execution_count": 25,
   "metadata": {},
   "outputs": [],
   "source": [
    "target_function_name = extract_function_names(code_string=target_function_code_as_string)\n",
    "assert len(target_function_name) == 1\n",
    "target_function_name = target_function_name[0]"
   ]
  },
  {
   "cell_type": "code",
   "execution_count": 23,
   "metadata": {},
   "outputs": [
    {
     "name": "stdout",
     "output_type": "stream",
     "text": [
      "import re\n",
      "import pytest\n",
      "\n",
      "def test_extract_emails_standard_format():\n",
      "    text = \"Please contact us at support@example.com for further information.\"\n",
      "    expected = [\"support@example.com\"]\n",
      "    assert extract_emails(text) == expected\n",
      "\n",
      "def test_extract_emails_multiple_standard_format():\n",
      "    text = \"Send an email to john.doe@example.com or jane.doe@sample.org.\"\n",
      "    expected = [\"john.doe@example.com\", \"jane.doe@sample.org\"]\n",
      "    assert extract_emails(text) == expected\n",
      "\n",
      "def test_extract_emails_obfuscated_format():\n",
      "    text = \"You can reach me at john.doe at example dot com.\"\n",
      "    expected = [\"john.doe@example.com\"]\n",
      "    assert extract_emails(text) == expected\n",
      "\n",
      "def test_extract_emails_mixed_formats():\n",
      "    text = \"Contact us at support@example.com or john.doe at example dot com.\"\n",
      "    expected = [\"support@example.com\", \"john.doe@example.com\"]\n",
      "    assert extract_emails(text) == expected\n",
      "\n",
      "def test_extract_emails_no_emails():\n",
      "    text = \"There are no email addresses in this text.\"\n",
      "    expected = []\n",
      "    assert extract_emails(text) == expected\n",
      "\n",
      "def test_extract_emails_edge_case_empty_string():\n",
      "    text = \"\"\n",
      "    expected = []\n",
      "    assert extract_emails(text) == expected\n",
      "\n",
      "def test_extract_emails_edge_case_special_characters():\n",
      "    text = \"Special characters: !@#$%^&*()_+{}|:\\\"<>?[]\\\\;',./`~\"\n",
      "    expected = []\n",
      "    assert extract_emails(text) == expected\n",
      "\n",
      "def test_extract_emails_with_subdomains():\n",
      "    text = \"Contact us at support@sub.example.com or admin@sub.domain.org.\"\n",
      "    expected = [\"support@sub.example.com\", \"admin@sub.domain.org\"]\n",
      "    assert extract_emails(text) == expected\n",
      "\n",
      "def test_extract_emails_with_numbers():\n",
      "    text = \"Emails with numbers: user123@example.com and admin456@sample.org.\"\n",
      "    expected = [\"user123@example.com\", \"admin456@sample.org\"]\n",
      "    assert extract_emails(text) == expected\n",
      "\n",
      "def test_extract_emails_with_hyphens():\n",
      "    text = \"Emails with hyphens: first-last@example.com and another-one@sample.org.\"\n",
      "    expected = [\"first-last@example.com\", \"another-one@sample.org\"]\n",
      "    assert extract_emails(text) == expected\n",
      "\n",
      "import re\n",
      "from typing import List\n",
      "\n",
      "def extract_emails(text: str) -> List[str]:\n",
      "    \"\"\"\n",
      "    Extracts email addresses from the given text. Supports both standard and obfuscated formats.\n",
      "\n",
      "    Args:\n",
      "        text (str): The input text containing email addresses.\n",
      "\n",
      "    Returns:\n",
      "        List[str]: A list of extracted email addresses.\n",
      "    \"\"\"\n",
      "    standard_emails = re.findall(r'\\b[A-Za-z0-9._%+-]+@[A-Za-z0-9.-]+\\.[A-Z|a-z]{2,}\\b', text)\n",
      "    obfuscated_emails = re.findall(r'\\b[A-Za-z0-9._%+-]+ at [A-Za-z0-9.-]+ dot [A-Z|a-z]{2,}\\b', text)\n",
      "    obfuscated_emails = [email.replace(' at ', '@').replace(' dot ', '.') for email in obfuscated_emails]\n",
      "    return standard_emails + obfuscated_emails\n",
      "\n"
     ]
    }
   ],
   "source": [
    "print(unit_test_code_as_string + \"\\n\" + target_function_code_as_string)"
   ]
  },
  {
   "cell_type": "code",
   "execution_count": 28,
   "metadata": {},
   "outputs": [],
   "source": [
    "test_function_pass_status_and_message = []\n",
    "\n",
    "for unit_test_name in unit_test_function_names:\n",
    "    # Example code to execute\n",
    "    code_to_run = f\"\"\"\n",
    "{unit_test_code_as_string}\n",
    "\n",
    "{target_function_code_as_string}\n",
    "\n",
    "try:\n",
    "    {unit_test_name}()\n",
    "    message = \"test passed\"\n",
    "except AssertionError as e:\n",
    "    message = \"Assertion failed: \" + str(e)\n",
    "except Exception as e:\n",
    "    message = \"Error: \" + str(e)\n",
    "\n",
    "print(message)\n",
    "\"\"\"\n",
    "\n",
    "    # Execute the code\n",
    "    # print(code_to_run)\n",
    "    output = python_repl.run(code_to_run)\n",
    "    test_function_pass_status_and_message.append(unit_test_name + \"(): \" + output)"
   ]
  },
  {
   "cell_type": "code",
   "execution_count": 30,
   "metadata": {},
   "outputs": [
    {
     "name": "stdout",
     "output_type": "stream",
     "text": [
      "['test_extract_emails_standard_format(): test passed\\n', 'test_extract_emails_multiple_standard_format(): test passed\\n', 'test_extract_emails_obfuscated_format(): test passed\\n', 'test_extract_emails_mixed_formats(): test passed\\n', 'test_extract_emails_no_emails(): test passed\\n', 'test_extract_emails_edge_case_empty_string(): test passed\\n', 'test_extract_emails_edge_case_special_characters(): test passed\\n', 'test_extract_emails_with_subdomains(): test passed\\n', 'test_extract_emails_with_numbers(): test passed\\n', 'test_extract_emails_with_hyphens(): test passed\\n']\n"
     ]
    },
    {
     "data": {
      "text/plain": [
       "True"
      ]
     },
     "execution_count": 30,
     "metadata": {},
     "output_type": "execute_result"
    }
   ],
   "source": [
    "print(test_function_pass_status_and_message)\n",
    "\n",
    "def all_end_with(string_list, pattern):\n",
    "    return all(s.endswith(pattern) for s in string_list)\n",
    "\n",
    "all_end_with(string_list=test_function_pass_status_and_message, pattern=\"test passed\\n\")"
   ]
  }
 ],
 "metadata": {
  "kernelspec": {
   "display_name": "base",
   "language": "python",
   "name": "python3"
  },
  "language_info": {
   "codemirror_mode": {
    "name": "ipython",
    "version": 3
   },
   "file_extension": ".py",
   "mimetype": "text/x-python",
   "name": "python",
   "nbconvert_exporter": "python",
   "pygments_lexer": "ipython3",
   "version": "3.8.8"
  }
 },
 "nbformat": 4,
 "nbformat_minor": 2
}
