{
 "cells": [
  {
   "cell_type": "code",
   "execution_count": 1,
   "metadata": {},
   "outputs": [],
   "source": [
    "from langchain_openai import ChatOpenAI\n",
    "from langchain_core.prompts import ChatPromptTemplate\n",
    "\n",
    "from extract import (\n",
    "    extract_function_names,\n",
    "    extract_function_by_name,\n",
    "    extract_imports,\n",
    ")\n",
    "\n",
    "from output_parser import (\n",
    "    PythonCodeExtractorParser,\n",
    ")\n",
    "\n",
    "from llm_calls import (\n",
    "    llm_generate_unit_tests,\n",
    "    llm_generate_function_from_unit_tests,\n",
    "    llm_find_bug,\n",
    "    llm_fix_bug,\n",
    ")\n",
    "\n",
    "from run_tests import (\n",
    "    find_first_failing_unit_test,\n",
    "    FindFirstFailingUnitTestFunctionMessage,\n",
    ")\n",
    "\n",
    "from function_code_with_unit_tests import FunctionCodeWithUnitTests\n",
    "\n",
    "llm = ChatOpenAI(temperature=0, model=\"gpt-4o\")\n",
    "\n",
    "query = \"Extract emails (including instances of 'name at email dot com') from a text.\""
   ]
  },
  {
   "cell_type": "code",
   "execution_count": 2,
   "metadata": {},
   "outputs": [
    {
     "name": "stdout",
     "output_type": "stream",
     "text": [
      "# Function to be tested: extract_emails\n",
      "\n",
      "import re\n",
      "import pytest\n",
      "\n",
      "def test_extract_emails_basic():\n",
      "    text = \"Contact us at support@example.com for more info.\"\n",
      "    expected = [\"support@example.com\"]\n",
      "    assert extract_emails(text) == expected\n",
      "\n",
      "def test_extract_emails_multiple():\n",
      "    text = \"Emails: first@example.com, second@example.org, third@example.net\"\n",
      "    expected = [\"first@example.com\", \"second@example.org\", \"third@example.net\"]\n",
      "    assert extract_emails(text) == expected\n",
      "\n",
      "def test_extract_emails_with_name_at_email_dot_com():\n",
      "    text = \"Reach out at name at email dot com or at support@example.com\"\n",
      "    expected = [\"name at email dot com\", \"support@example.com\"]\n",
      "    assert extract_emails(text) == expected\n",
      "\n",
      "def test_extract_emails_mixed_formats():\n",
      "    text = \"Emails: first@example.com, name at email dot com, second@example.org\"\n",
      "    expected = [\"first@example.com\", \"name at email dot com\", \"second@example.org\"]\n",
      "    assert extract_emails(text) == expected\n",
      "\n",
      "def test_extract_emails_no_emails():\n",
      "    text = \"There are no emails in this text.\"\n",
      "    expected = []\n",
      "    assert extract_emails(text) == expected\n",
      "\n",
      "def test_extract_emails_empty_string():\n",
      "    text = \"\"\n",
      "    expected = []\n",
      "    assert extract_emails(text) == expected\n",
      "\n",
      "def test_extract_emails_special_characters():\n",
      "    text = \"Special chars: !@#$%^&*()_+{}|:\\\"<>?[]\\\\;',./`~\"\n",
      "    expected = []\n",
      "    assert extract_emails(text) == expected\n",
      "\n",
      "def test_extract_emails_unicode_characters():\n",
      "    text = \"Emails: unicode@example.com, 名字@例子.公司\"\n",
      "    expected = [\"unicode@example.com\"]\n",
      "    assert extract_emails(text) == expected\n",
      "\n",
      "def test_extract_emails_case_sensitivity():\n",
      "    text = \"Emails: Support@Example.Com, support@example.com\"\n",
      "    expected = [\"Support@Example.Com\", \"support@example.com\"]\n",
      "    assert extract_emails(text) == expected\n",
      "\n",
      "def test_extract_emails_multiline():\n",
      "    text = \"\"\"Emails:\n",
      "    first@example.com\n",
      "    name at email dot com\n",
      "    second@example.org\"\"\"\n",
      "    expected = [\"first@example.com\", \"name at email dot com\", \"second@example.org\"]\n",
      "    assert extract_emails(text) == expected\n",
      "\n",
      "def test_extract_emails_overlapping_matches():\n",
      "    text = \"Emails: first@example.comfirst@example.com\"\n",
      "    expected = [\"first@example.com\", \"first@example.com\"]\n",
      "    assert extract_emails(text) == expected\n",
      "\n",
      "def test_extract_emails_non_matching_scenarios():\n",
      "    text = \"Emails: first@.com, @example.com, name at email dot\"\n",
      "    expected = []\n",
      "    assert extract_emails(text) == expected\n",
      "\n",
      "def test_extract_emails_with_subdomains():\n",
      "    text = \"Emails: user@mail.example.com, admin@sub.example.org\"\n",
      "    expected = [\"user@mail.example.com\", \"admin@sub.example.org\"]\n",
      "    assert extract_emails(text) == expected\n",
      "\n",
      "def test_extract_emails_with_hyphens():\n",
      "    text = \"Emails: user-name@example.com, admin-name@sub-domain.example.org\"\n",
      "    expected = [\"user-name@example.com\", \"admin-name@sub-domain.example.org\"]\n",
      "    assert extract_emails(text) == expected\n",
      "\n",
      "def test_extract_emails_with_plus_signs():\n",
      "    text = \"Emails: user+name@example.com, admin+name@sub.example.org\"\n",
      "    expected = [\"user+name@example.com\", \"admin+name@sub.example.org\"]\n",
      "    assert extract_emails(text) == expected\n",
      "\n",
      "def test_extract_emails_with_numbers():\n",
      "    text = \"Emails: user123@example.com, admin456@sub.example.org\"\n",
      "    expected = [\"user123@example.com\", \"admin456@sub.example.org\"]\n",
      "    assert extract_emails(text) == expected\n",
      "\n",
      "def test_extract_emails_with_long_text():\n",
      "    text = \" \".join([f\"user{i}@example.com\" for i in range(1000)])\n",
      "    expected = [f\"user{i}@example.com\" for i in range(1000)]\n",
      "    assert extract_emails(text) == expected\n",
      "\n",
      "def test_extract_emails_with_escaped_characters():\n",
      "    text = \"Emails: user\\\\@example.com, admin\\\\@sub.example.org\"\n",
      "    expected = []\n",
      "    assert extract_emails(text) == expected\n",
      "\n",
      "def test_extract_emails_with_lookahead():\n",
      "    text = \"Emails: user@example.com, admin@example.org\"\n",
      "    expected = [\"user@example.com\", \"admin@example.org\"]\n",
      "    assert extract_emails(text) == expected\n",
      "\n",
      "def test_extract_emails_with_lookbehind():\n",
      "    text = \"Emails: user@example.com, admin@example.org\"\n",
      "    expected = [\"user@example.com\", \"admin@example.org\"]\n",
      "    assert extract_emails(text) == expected\n",
      "\n"
     ]
    }
   ],
   "source": [
    "unit_test_code_as_string = llm_generate_unit_tests(llm, query)\n",
    "print(unit_test_code_as_string)"
   ]
  },
  {
   "cell_type": "code",
   "execution_count": 3,
   "metadata": {},
   "outputs": [
    {
     "data": {
      "text/plain": [
       "['test_extract_emails_basic',\n",
       " 'test_extract_emails_multiple',\n",
       " 'test_extract_emails_with_name_at_email_dot_com',\n",
       " 'test_extract_emails_mixed_formats',\n",
       " 'test_extract_emails_no_emails',\n",
       " 'test_extract_emails_empty_string',\n",
       " 'test_extract_emails_special_characters',\n",
       " 'test_extract_emails_unicode_characters',\n",
       " 'test_extract_emails_case_sensitivity',\n",
       " 'test_extract_emails_multiline',\n",
       " 'test_extract_emails_overlapping_matches',\n",
       " 'test_extract_emails_non_matching_scenarios',\n",
       " 'test_extract_emails_with_subdomains',\n",
       " 'test_extract_emails_with_hyphens',\n",
       " 'test_extract_emails_with_plus_signs',\n",
       " 'test_extract_emails_with_numbers',\n",
       " 'test_extract_emails_with_long_text',\n",
       " 'test_extract_emails_with_escaped_characters',\n",
       " 'test_extract_emails_with_lookahead',\n",
       " 'test_extract_emails_with_lookbehind']"
      ]
     },
     "execution_count": 3,
     "metadata": {},
     "output_type": "execute_result"
    }
   ],
   "source": [
    "unit_test_function_names = extract_function_names(code_string=unit_test_code_as_string)\n",
    "unit_test_function_names"
   ]
  },
  {
   "cell_type": "code",
   "execution_count": 4,
   "metadata": {},
   "outputs": [
    {
     "data": {
      "text/plain": [
       "['import re', 'import pytest']"
      ]
     },
     "execution_count": 4,
     "metadata": {},
     "output_type": "execute_result"
    }
   ],
   "source": [
    "unit_test_imports = extract_imports(unit_test_code_as_string)\n",
    "unit_test_imports"
   ]
  },
  {
   "cell_type": "code",
   "execution_count": 5,
   "metadata": {},
   "outputs": [
    {
     "name": "stdout",
     "output_type": "stream",
     "text": [
      "import re\n",
      "from typing import List\n",
      "\n",
      "def extract_emails(text: str) -> List[str]:\n",
      "    \"\"\"\n",
      "    Extracts email addresses from the given text. The function identifies both standard email formats\n",
      "    and the format 'name at email dot com'.\n",
      "\n",
      "    Parameters:\n",
      "    text (str): The input text from which to extract email addresses.\n",
      "\n",
      "    Returns:\n",
      "    List[str]: A list of extracted email addresses.\n",
      "    \"\"\"\n",
      "    email_pattern = re.compile(\n",
      "        r'\\b[A-Za-z0-9._%+-]+@[A-Za-z0-9.-]+\\.[A-Z|a-z]{2,}\\b|'\n",
      "        r'\\b[A-Za-z0-9._%+-]+ at [A-Za-z0-9.-]+ dot [A-Z|a-z]{2,}\\b'\n",
      "    )\n",
      "    return email_pattern.findall(text)\n",
      "\n"
     ]
    }
   ],
   "source": [
    "target_function_code_as_string = llm_generate_function_from_unit_tests(\n",
    "    llm, unit_test_code_as_string\n",
    ")\n",
    "print(target_function_code_as_string)"
   ]
  },
  {
   "cell_type": "code",
   "execution_count": 6,
   "metadata": {},
   "outputs": [],
   "source": [
    "function_code_with_unit_tests = FunctionCodeWithUnitTests(\n",
    "    function_code=[target_function_code_as_string],\n",
    "    unit_tests={\n",
    "        name: [\n",
    "            extract_function_by_name(\n",
    "                code_string=unit_test_code_as_string, function_name=name\n",
    "            )\n",
    "        ]\n",
    "        for name in unit_test_function_names\n",
    "    },\n",
    "    unit_test_imports=\"\\n\".join(unit_test_imports)\n",
    ")\n"
   ]
  },
  {
   "cell_type": "code",
   "execution_count": 7,
   "metadata": {},
   "outputs": [
    {
     "name": "stderr",
     "output_type": "stream",
     "text": [
      "Python REPL can execute arbitrary code. Use with caution.\n"
     ]
    },
    {
     "name": "stdout",
     "output_type": "stream",
     "text": [
      "all_tests_pass: False\n",
      "unit_test_name: test_extract_emails_overlapping_matches\n",
      "output: Assertion failed: \n"
     ]
    }
   ],
   "source": [
    "first_failing_unit_test_message = find_first_failing_unit_test(\n",
    "    function_code_with_unit_tests=function_code_with_unit_tests\n",
    ")\n",
    "first_failing_unit_test_message.print_message_details()"
   ]
  },
  {
   "cell_type": "code",
   "execution_count": 8,
   "metadata": {},
   "outputs": [
    {
     "data": {
      "text/plain": [
       "{'Likely Bug Location': 'Unit Test',\n",
       " 'Explanation': \"The unit test `test_extract_emails_overlapping_matches` is testing for overlapping email matches, which is not a typical scenario for email extraction. The expected result `['first@example.com', 'first@example.com']` suggests that the function should identify overlapping email addresses, but standard email extraction should not consider overlapping matches as separate entities. The function `extract_emails` is correctly designed to find distinct email addresses based on the given pattern. The test case should be revised to test for distinct email addresses without overlap.\"}"
      ]
     },
     "execution_count": 8,
     "metadata": {},
     "output_type": "execute_result"
    }
   ],
   "source": [
    "bug_report_dict = llm_find_bug(\n",
    "    llm=llm,\n",
    "    function_code_with_unit_tests=function_code_with_unit_tests,\n",
    "    first_failing_unit_test_message=first_failing_unit_test_message,\n",
    ")\n",
    "bug_report_dict"
   ]
  },
  {
   "cell_type": "code",
   "execution_count": 10,
   "metadata": {},
   "outputs": [
    {
     "name": "stdout",
     "output_type": "stream",
     "text": [
      "def test_extract_emails_overlapping_matches():\n",
      "    text = 'Emails: first@example.comfirst@example.com'\n",
      "    expected = ['first@example.com']\n",
      "    assert extract_emails(text) == expected\n",
      "\n"
     ]
    }
   ],
   "source": [
    "updated_unit_test = llm_fix_bug(\n",
    "    llm=llm,\n",
    "    bug_report_dict=bug_report_dict,\n",
    "    function_code_with_unit_tests=function_code_with_unit_tests,\n",
    "    first_failing_unit_test_message=first_failing_unit_test_message,\n",
    ")\n",
    "print(updated_unit_test)"
   ]
  }
 ],
 "metadata": {
  "kernelspec": {
   "display_name": "base",
   "language": "python",
   "name": "python3"
  },
  "language_info": {
   "codemirror_mode": {
    "name": "ipython",
    "version": 3
   },
   "file_extension": ".py",
   "mimetype": "text/x-python",
   "name": "python",
   "nbconvert_exporter": "python",
   "pygments_lexer": "ipython3",
   "version": "3.8.8"
  }
 },
 "nbformat": 4,
 "nbformat_minor": 2
}
