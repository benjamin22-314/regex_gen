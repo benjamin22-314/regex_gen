{
 "cells": [
  {
   "cell_type": "code",
   "execution_count": 64,
   "metadata": {},
   "outputs": [],
   "source": [
    "from langchain_openai import ChatOpenAI\n",
    "import re\n",
    "\n",
    "from langchain_experimental.tools import PythonREPLTool\n",
    "\n",
    "from extract import (\n",
    "    extract_function_names,\n",
    "    extract_function_by_name,\n",
    "    extract_imports,\n",
    "    is_valid_python,\n",
    ")\n",
    "\n",
    "python_repl = PythonREPLTool()\n",
    "\n",
    "llm = ChatOpenAI(temperature=0, model=\"gpt-4o\")"
   ]
  },
  {
   "cell_type": "code",
   "execution_count": 67,
   "metadata": {},
   "outputs": [],
   "source": [
    "from langchain_core.prompts import ChatPromptTemplate\n",
    "\n",
    "prompt = ChatPromptTemplate.from_messages([\n",
    "    (\"system\", \"You will be asked to write a python function. Use best practice python code that uses type hints and doc strings. \\\n",
    "     Your response should be valid python code only. No extra explanations. \\\n",
    "     You should wrote robust and thorough unit tests (pytest) to test the function you write. \\\n",
    "     Each unit test should be self contained, concise, and only test one thing. \\\n",
    "     Do not write code to run the unit tests.\"),\n",
    "    (\"user\", \"{input}\")\n",
    "])\n",
    "\n",
    "chain = prompt | llm \n",
    "llm_message_regex_function_and_unit_tests = chain.invoke({\"input\": \"Write a python function that uses regex to extract emails (including instances of 'name at email dot com') from a text.\"})"
   ]
  },
  {
   "cell_type": "code",
   "execution_count": 69,
   "metadata": {},
   "outputs": [
    {
     "name": "stdout",
     "output_type": "stream",
     "text": [
      "import re\n",
      "from typing import List\n",
      "\n",
      "def extract_emails(text: str) -> List[str]:\n",
      "    \"\"\"\n",
      "    Extracts emails from a given text. Supports standard email format and 'name at email dot com' format.\n",
      "\n",
      "    Args:\n",
      "        text (str): The input text containing emails.\n",
      "\n",
      "    Returns:\n",
      "        List[str]: A list of extracted email addresses.\n",
      "    \"\"\"\n",
      "    # Regex for standard email format\n",
      "    standard_email_regex = r'[a-zA-Z0-9._%+-]+@[a-zA-Z0-9.-]+\\.[a-zA-Z]{2,}'\n",
      "    \n",
      "    # Regex for 'name at email dot com' format\n",
      "    at_dot_email_regex = r'([a-zA-Z0-9._%+-]+)\\s+at\\s+([a-zA-Z0-9.-]+)\\s+dot\\s+([a-zA-Z]{2,})'\n",
      "    \n",
      "    # Find all standard emails\n",
      "    standard_emails = re.findall(standard_email_regex, text)\n",
      "    \n",
      "    # Find all 'name at email dot com' emails and convert them to standard format\n",
      "    at_dot_emails = re.findall(at_dot_email_regex, text)\n",
      "    converted_emails = [f\"{user}@{domain}.{tld}\" for user, domain, tld in at_dot_emails]\n",
      "    \n",
      "    return standard_emails + converted_emails\n",
      "\n",
      "\n",
      "import pytest\n",
      "\n",
      "def test_extract_standard_email():\n",
      "    text = \"Please contact us at support@example.com for further information.\"\n",
      "    assert extract_emails(text) == [\"support@example.com\"]\n",
      "\n",
      "def test_extract_at_dot_email():\n",
      "    text = \"You can reach John at john.doe at example dot com for more details.\"\n",
      "    assert extract_emails(text) == [\"john.doe@example.com\"]\n",
      "\n",
      "def test_extract_multiple_emails():\n",
      "    text = \"Contact us at support@example.com or sales at example dot com.\"\n",
      "    assert extract_emails(text) == [\"support@example.com\", \"sales@example.com\"]\n",
      "\n",
      "def test_extract_no_emails():\n",
      "    text = \"There are no emails in this text.\"\n",
      "    assert extract_emails(text) == []\n",
      "\n",
      "def test_extract_mixed_emails():\n",
      "    text = \"Send an email to admin@example.com or to jane.doe at example dot org.\"\n",
      "    assert extract_emails(text) == [\"admin@example.com\", \"jane.doe@example.org\"]\n",
      "\n"
     ]
    }
   ],
   "source": [
    "def extract_python_code(text):\n",
    "    pattern = r'```python\\n(.*?)```'\n",
    "    code_blocks = re.findall(pattern, text, re.DOTALL)\n",
    "    return '\\n\\n'.join(code_blocks)\n",
    "\n",
    "code_from_llm_as_str = extract_python_code(llm_message_regex_function_and_unit_tests.content)\n",
    "print(code_from_llm_as_str)"
   ]
  },
  {
   "cell_type": "code",
   "execution_count": 70,
   "metadata": {},
   "outputs": [
    {
     "data": {
      "text/plain": [
       "['extract_emails',\n",
       " 'test_extract_standard_email',\n",
       " 'test_extract_at_dot_email',\n",
       " 'test_extract_multiple_emails',\n",
       " 'test_extract_no_emails',\n",
       " 'test_extract_mixed_emails']"
      ]
     },
     "execution_count": 70,
     "metadata": {},
     "output_type": "execute_result"
    }
   ],
   "source": [
    "function_names = extract_function_names(code_string=code_from_llm_as_str)\n",
    "function_names"
   ]
  },
  {
   "cell_type": "code",
   "execution_count": 71,
   "metadata": {},
   "outputs": [
    {
     "data": {
      "text/plain": [
       "['import re', 'from typing import List', 'import pytest']"
      ]
     },
     "execution_count": 71,
     "metadata": {},
     "output_type": "execute_result"
    }
   ],
   "source": [
    "imports = extract_imports(code_from_llm_as_str)\n",
    "imports"
   ]
  },
  {
   "cell_type": "code",
   "execution_count": 124,
   "metadata": {},
   "outputs": [],
   "source": [
    "imports_as_one_string = \"\\n\".join(imports)\n",
    "function_to_test = function_names[0]\n",
    "test_functions = function_names[1:]\n",
    "\n",
    "test_function_pass_status_and_message = []\n",
    "\n",
    "for f in test_functions:\n",
    "    # Example code to execute\n",
    "    code_to_run = f\"\"\"\n",
    "{imports_as_one_string}\n",
    "\n",
    "{extract_function_by_name(code_string=code_from_llm_as_str, function_name=function_to_test)}\n",
    "\n",
    "{extract_function_by_name(code_from_llm_as_str, function_name=f)}\n",
    "\n",
    "try:\n",
    "    {f}()\n",
    "    message = \"test passed\"\n",
    "except AssertionError as e:\n",
    "    message = \"Assertion failed: \" + str(e)\n",
    "except Exception as e:\n",
    "    message = \"Error: \" + str(e)\n",
    "\n",
    "print(message)\n",
    "\"\"\"\n",
    "\n",
    "    # Execute the code\n",
    "    # print(code_to_run)\n",
    "    output = python_repl.run(code_to_run)\n",
    "    test_function_pass_status_and_message.append(f + \"(): \" + output)"
   ]
  },
  {
   "cell_type": "code",
   "execution_count": 125,
   "metadata": {},
   "outputs": [
    {
     "data": {
      "text/plain": [
       "['test_extract_standard_email(): test passed\\n',\n",
       " 'test_extract_at_dot_email(): test passed\\n',\n",
       " 'test_extract_multiple_emails(): test passed\\n',\n",
       " 'test_extract_no_emails(): test passed\\n',\n",
       " 'test_extract_mixed_emails(): test passed\\n']"
      ]
     },
     "execution_count": 125,
     "metadata": {},
     "output_type": "execute_result"
    }
   ],
   "source": [
    "test_function_pass_status_and_message"
   ]
  }
 ],
 "metadata": {
  "kernelspec": {
   "display_name": "base",
   "language": "python",
   "name": "python3"
  },
  "language_info": {
   "codemirror_mode": {
    "name": "ipython",
    "version": 3
   },
   "file_extension": ".py",
   "mimetype": "text/x-python",
   "name": "python",
   "nbconvert_exporter": "python",
   "pygments_lexer": "ipython3",
   "version": "3.8.8"
  }
 },
 "nbformat": 4,
 "nbformat_minor": 2
}
