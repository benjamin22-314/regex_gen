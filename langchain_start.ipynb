{
 "cells": [
  {
   "cell_type": "code",
   "execution_count": 10,
   "metadata": {},
   "outputs": [],
   "source": [
    "from langchain_openai import ChatOpenAI\n",
    "\n",
    "llm = ChatOpenAI(temperature=0, model=\"gpt-4o\")"
   ]
  },
  {
   "cell_type": "code",
   "execution_count": 12,
   "metadata": {},
   "outputs": [],
   "source": [
    "from langchain_core.prompts import ChatPromptTemplate\n",
    "\n",
    "prompt = ChatPromptTemplate.from_messages([\n",
    "    (\"system\", \"You give short and best practice python code.\"),\n",
    "    (\"user\", \"{input}\")\n",
    "])\n",
    "\n",
    "chain = prompt | llm \n",
    "ai_message = chain.invoke({\"input\": \"Write a python function that uses regex to extract emails (including instances of 'name at email dot com') from a text. Use pytest to write useful unit tests.\"})"
   ]
  },
  {
   "cell_type": "code",
   "execution_count": 14,
   "metadata": {},
   "outputs": [
    {
     "name": "stdout",
     "output_type": "stream",
     "text": [
      "Certainly! Below is a Python function that uses regex to extract emails, including instances formatted as 'name at email dot com', from a given text. Additionally, I've included unit tests using `pytest`.\n",
      "\n",
      "```python\n",
      "import re\n",
      "\n",
      "def extract_emails(text):\n",
      "    # Regex pattern to match standard emails and 'name at email dot com' format\n",
      "    pattern = re.compile(r'\\b[\\w.-]+@[\\w.-]+\\.\\w{2,4}\\b|\\b[\\w.-]+ at [\\w.-]+ dot \\w{2,4}\\b', re.IGNORECASE)\n",
      "    matches = pattern.findall(text)\n",
      "    \n",
      "    # Convert 'name at email dot com' to 'name@email.com'\n",
      "    emails = [re.sub(r' at ', '@', re.sub(r' dot ', '.', match, flags=re.IGNORECASE), flags=re.IGNORECASE) for match in matches]\n",
      "    \n",
      "    return emails\n",
      "\n",
      "# Unit tests using pytest\n",
      "def test_extract_emails():\n",
      "    text = \"\"\"\n",
      "    Here are some emails: test.email@example.com, another.email@domain.org.\n",
      "    Also, consider this format: user at example dot com, admin at domain dot net.\n",
      "    \"\"\"\n",
      "    expected_emails = [\n",
      "        'test.email@example.com',\n",
      "        'another.email@domain.org',\n",
      "        'user@example.com',\n",
      "        'admin@domain.net'\n",
      "    ]\n",
      "    assert extract_emails(text) == expected_emails\n",
      "\n",
      "def test_extract_emails_mixed_case():\n",
      "    text = \"\"\"\n",
      "    Mixed case emails: User at Example dot Com, Admin at Domain dot Net.\n",
      "    \"\"\"\n",
      "    expected_emails = [\n",
      "        'User@example.com',\n",
      "        'Admin@domain.net'\n",
      "    ]\n",
      "    assert extract_emails(text) == expected_emails\n",
      "\n",
      "def test_extract_emails_no_emails():\n",
      "    text = \"This text contains no emails.\"\n",
      "    expected_emails = []\n",
      "    assert extract_emails(text) == expected_emails\n",
      "\n",
      "def test_extract_emails_only_standard():\n",
      "    text = \"Standard email: user@example.com.\"\n",
      "    expected_emails = ['user@example.com']\n",
      "    assert extract_emails(text) == expected_emails\n",
      "\n",
      "def test_extract_emails_only_non_standard():\n",
      "    text = \"Non-standard email: user at example dot com.\"\n",
      "    expected_emails = ['user@example.com']\n",
      "    assert extract_emails(text) == expected_emails\n",
      "\n",
      "if __name__ == \"__main__\":\n",
      "    import pytest\n",
      "    pytest.main()\n",
      "```\n",
      "\n",
      "### Explanation:\n",
      "1. **Function `extract_emails`**:\n",
      "   - Uses a regex pattern to match both standard email formats and the 'name at email dot com' format.\n",
      "   - Converts the 'name at email dot com' format to the standard email format using `re.sub`.\n",
      "\n",
      "2. **Unit Tests**:\n",
      "   - `test_extract_emails`: Tests a mix of standard and non-standard email formats.\n",
      "   - `test_extract_emails_mixed_case`: Tests non-standard email formats with mixed case.\n",
      "   - `test_extract_emails_no_emails`: Tests a text with no emails.\n",
      "   - `test_extract_emails_only_standard`: Tests a text with only standard email formats.\n",
      "   - `test_extract_emails_only_non_standard`: Tests a text with only non-standard email formats.\n",
      "\n",
      "To run the tests, you can use the command `pytest` in your terminal. Make sure you have `pytest` installed (`pip install pytest`).\n"
     ]
    }
   ],
   "source": [
    "print(ai_message.content)"
   ]
  }
 ],
 "metadata": {
  "kernelspec": {
   "display_name": "base",
   "language": "python",
   "name": "python3"
  },
  "language_info": {
   "codemirror_mode": {
    "name": "ipython",
    "version": 3
   },
   "file_extension": ".py",
   "mimetype": "text/x-python",
   "name": "python",
   "nbconvert_exporter": "python",
   "pygments_lexer": "ipython3",
   "version": "3.8.8"
  }
 },
 "nbformat": 4,
 "nbformat_minor": 2
}
